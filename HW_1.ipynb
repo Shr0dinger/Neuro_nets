{
 "cells": [
  {
   "cell_type": "markdown",
   "id": "b4197cd8",
   "metadata": {},
   "source": [
    "### Загрузка библиотек:"
   ]
  },
  {
   "cell_type": "code",
   "execution_count": 1,
   "id": "6ff499eb",
   "metadata": {},
   "outputs": [],
   "source": [
    "import numpy as np\n",
    "import pandas as pd\n",
    "import matplotlib.pyplot as plt\n",
    "from sklearn.model_selection import train_test_split\n",
    "\n",
    "import warnings\n",
    "warnings.simplefilter(action='ignore', category=FutureWarning)"
   ]
  },
  {
   "cell_type": "markdown",
   "id": "1c6bb058",
   "metadata": {},
   "source": [
    "### Объявление функций:"
   ]
  },
  {
   "cell_type": "code",
   "execution_count": 2,
   "id": "766fe1e9",
   "metadata": {},
   "outputs": [],
   "source": [
    "def to_one_hot(Y):\n",
    "    n_col = np.amax(Y) + 1\n",
    "    binarized = np.zeros((len(Y), n_col))\n",
    "    for i in range(len(Y)):\n",
    "        binarized[i, Y[i]] = 1.\n",
    "    return binarized"
   ]
  },
  {
   "cell_type": "code",
   "execution_count": 3,
   "id": "5269fe2c",
   "metadata": {},
   "outputs": [],
   "source": [
    "def from_one_hot(Y):\n",
    "    arr = np.zeros((len(Y), 1))\n",
    "\n",
    "    for i in range(len(Y)):\n",
    "        l = layer2[i]\n",
    "        for j in range(len(l)):\n",
    "            if(l[j] == 1):\n",
    "                arr[i] = j+1\n",
    "    return arr"
   ]
  },
  {
   "cell_type": "code",
   "execution_count": 4,
   "id": "05a49751",
   "metadata": {},
   "outputs": [],
   "source": [
    "def sigmoid(x):\n",
    "    return 1/(1+np.exp(-x))"
   ]
  },
  {
   "cell_type": "code",
   "execution_count": 5,
   "id": "6d62aa92",
   "metadata": {},
   "outputs": [],
   "source": [
    "def sigmoid_deriv(x):\n",
    "    return sigmoid(x)*(1 - sigmoid(x))"
   ]
  },
  {
   "cell_type": "code",
   "execution_count": 6,
   "id": "6f8f1c9f",
   "metadata": {},
   "outputs": [],
   "source": [
    "def normalize(X, axis=-1, order=2):\n",
    "    l2 = np.atleast_1d(np.linalg.norm(X, order, axis))\n",
    "    l2[l2 == 0] = 1\n",
    "    return X / np.expand_dims(l2, axis)"
   ]
  },
  {
   "cell_type": "markdown",
   "id": "fb003be0",
   "metadata": {},
   "source": [
    "### Загрузка датасета:"
   ]
  },
  {
   "cell_type": "code",
   "execution_count": 7,
   "id": "a7c2e634",
   "metadata": {},
   "outputs": [
    {
     "data": {
      "text/html": [
       "<div>\n",
       "<style scoped>\n",
       "    .dataframe tbody tr th:only-of-type {\n",
       "        vertical-align: middle;\n",
       "    }\n",
       "\n",
       "    .dataframe tbody tr th {\n",
       "        vertical-align: top;\n",
       "    }\n",
       "\n",
       "    .dataframe thead th {\n",
       "        text-align: right;\n",
       "    }\n",
       "</style>\n",
       "<table border=\"1\" class=\"dataframe\">\n",
       "  <thead>\n",
       "    <tr style=\"text-align: right;\">\n",
       "      <th></th>\n",
       "      <th>Id</th>\n",
       "      <th>SepalLengthCm</th>\n",
       "      <th>SepalWidthCm</th>\n",
       "      <th>PetalLengthCm</th>\n",
       "      <th>PetalWidthCm</th>\n",
       "      <th>Species</th>\n",
       "    </tr>\n",
       "  </thead>\n",
       "  <tbody>\n",
       "    <tr>\n",
       "      <th>0</th>\n",
       "      <td>1</td>\n",
       "      <td>5.1</td>\n",
       "      <td>3.5</td>\n",
       "      <td>1.4</td>\n",
       "      <td>0.2</td>\n",
       "      <td>0</td>\n",
       "    </tr>\n",
       "    <tr>\n",
       "      <th>1</th>\n",
       "      <td>2</td>\n",
       "      <td>4.9</td>\n",
       "      <td>3.0</td>\n",
       "      <td>1.4</td>\n",
       "      <td>0.2</td>\n",
       "      <td>0</td>\n",
       "    </tr>\n",
       "    <tr>\n",
       "      <th>2</th>\n",
       "      <td>3</td>\n",
       "      <td>4.7</td>\n",
       "      <td>3.2</td>\n",
       "      <td>1.3</td>\n",
       "      <td>0.2</td>\n",
       "      <td>0</td>\n",
       "    </tr>\n",
       "    <tr>\n",
       "      <th>3</th>\n",
       "      <td>4</td>\n",
       "      <td>4.6</td>\n",
       "      <td>3.1</td>\n",
       "      <td>1.5</td>\n",
       "      <td>0.2</td>\n",
       "      <td>0</td>\n",
       "    </tr>\n",
       "    <tr>\n",
       "      <th>4</th>\n",
       "      <td>5</td>\n",
       "      <td>5.0</td>\n",
       "      <td>3.6</td>\n",
       "      <td>1.4</td>\n",
       "      <td>0.2</td>\n",
       "      <td>0</td>\n",
       "    </tr>\n",
       "  </tbody>\n",
       "</table>\n",
       "</div>"
      ],
      "text/plain": [
       "   Id  SepalLengthCm  SepalWidthCm  PetalLengthCm  PetalWidthCm  Species\n",
       "0   1            5.1           3.5            1.4           0.2        0\n",
       "1   2            4.9           3.0            1.4           0.2        0\n",
       "2   3            4.7           3.2            1.3           0.2        0\n",
       "3   4            4.6           3.1            1.5           0.2        0\n",
       "4   5            5.0           3.6            1.4           0.2        0"
      ]
     },
     "execution_count": 7,
     "metadata": {},
     "output_type": "execute_result"
    }
   ],
   "source": [
    "iris_data = pd.read_csv(\"./Iris.csv\")\n",
    "iris_data['Species'].replace(['Iris-setosa', 'Iris-virginica', 'Iris-versicolor'], [0, 1, 2], inplace=True)\n",
    "iris_data.head()"
   ]
  },
  {
   "cell_type": "markdown",
   "id": "f3d028ed",
   "metadata": {},
   "source": [
    "### Преобразование и разделение данных:"
   ]
  },
  {
   "cell_type": "code",
   "execution_count": 8,
   "id": "41a4063b",
   "metadata": {},
   "outputs": [],
   "source": [
    "columns = ['SepalLengthCm', 'SepalWidthCm', 'PetalLengthCm', 'PetalWidthCm']\n",
    "x = pd.DataFrame(iris_data, columns=columns)\n",
    "x = normalize(x.values)"
   ]
  },
  {
   "cell_type": "code",
   "execution_count": 9,
   "id": "75897e59",
   "metadata": {},
   "outputs": [],
   "source": [
    "columns = ['Species']\n",
    "y = pd.DataFrame(iris_data, columns=columns)\n",
    "y = y.values\n",
    "y = y.flatten()\n",
    "y = to_one_hot(y)"
   ]
  },
  {
   "cell_type": "code",
   "execution_count": 10,
   "id": "ff71356c",
   "metadata": {},
   "outputs": [],
   "source": [
    "X_train, X_test, y_train, y_test = train_test_split(x, y, test_size=0.33)"
   ]
  },
  {
   "cell_type": "markdown",
   "id": "916239dc",
   "metadata": {},
   "source": [
    "### Обучение нейросети:"
   ]
  },
  {
   "cell_type": "markdown",
   "id": "e5381425",
   "metadata": {},
   "source": [
    "#### Для первого раза используем не слишком хорошие гиперпараметры, чтобы разница была более заметна:"
   ]
  },
  {
   "cell_type": "code",
   "execution_count": 23,
   "id": "91c64fe9",
   "metadata": {},
   "outputs": [],
   "source": [
    "neuron_numb = 2\n",
    "\n",
    "w0 = 2*np.random.random((4, neuron_numb)) - 1\n",
    "w1 = 2*np.random.random((neuron_numb, 3)) - 1\n",
    "\n",
    "n = 0.005\n",
    "errors = []"
   ]
  },
  {
   "cell_type": "code",
   "execution_count": 24,
   "id": "fd141378",
   "metadata": {},
   "outputs": [],
   "source": [
    "for i in range(500):\n",
    "\n",
    "    layer0 = X_train\n",
    "    layer1 = sigmoid(np.dot(layer0, w0))\n",
    "    layer2 = sigmoid(np.dot(layer1, w1))\n",
    "\n",
    "    layer2_error = y_train - layer2\n",
    "    layer2_delta = layer2_error * sigmoid_deriv(layer2)\n",
    "    \n",
    "    layer1_error = layer2_delta.dot(w1.T)\n",
    "    layer1_delta = layer1_error * sigmoid_deriv(layer1)\n",
    "    \n",
    "    w1 += layer1.T.dot(layer2_delta) * n\n",
    "    w0 += layer0.T.dot(layer1_delta) * n\n",
    "    \n",
    "    error = np.mean(np.abs(layer2_error))\n",
    "    errors.append(error)\n",
    "    accuracy = (1 - error) * 100"
   ]
  },
  {
   "cell_type": "markdown",
   "id": "95867604",
   "metadata": {},
   "source": [
    "### Результаты на тренировочных данных:"
   ]
  },
  {
   "cell_type": "code",
   "execution_count": 25,
   "id": "71a5de9a",
   "metadata": {},
   "outputs": [
    {
     "data": {
      "image/png": "[encoded data removed]",
      "text/plain": [
       "<Figure size 1152x360 with 1 Axes>"
      ]
     },
     "metadata": {
      "needs_background": "light"
     },
     "output_type": "display_data"
    },
    {
     "name": "stdout",
     "output_type": "stream",
     "text": [
      "Точность нейронной сети 58.93%\n"
     ]
    }
   ],
   "source": [
    "plt.figure(figsize = (16,5))\n",
    "plt.plot(errors)\n",
    "plt.xlabel('Обучение')\n",
    "plt.ylabel('Ошибка')\n",
    "plt.grid()\n",
    "plt.show()\n",
    "        \n",
    "print(\"Точность нейронной сети \" + str(round(accuracy,2)) + \"%\")"
   ]
  },
  {
   "cell_type": "markdown",
   "id": "0c10c1ed",
   "metadata": {},
   "source": [
    "### Предсказание и результаты на тестовых данных:"
   ]
  },
  {
   "cell_type": "code",
   "execution_count": 26,
   "id": "ac623c2e",
   "metadata": {},
   "outputs": [
    {
     "name": "stdout",
     "output_type": "stream",
     "text": [
      "Точность нейронной сети на тесте 58.5%\n"
     ]
    }
   ],
   "source": [
    "layer0_test = X_test\n",
    "layer1_test = sigmoid(np.dot(layer0_test, w0))\n",
    "layer2_test = sigmoid(np.dot(layer1_test, w1))\n",
    "layer2_error_test = y_test - layer2_test\n",
    "\n",
    "error_test = np.mean(np.abs(layer2_error_test))\n",
    "accuracy_test = (1 - error_test) * 100\n",
    "print(\"Точность нейронной сети на тесте \" + str(round(accuracy_test,2)) + \"%\")"
   ]
  },
  {
   "cell_type": "markdown",
   "id": "4ccfa77e",
   "metadata": {},
   "source": [
    "#### Как видно, при маленьком learning rate двух нейронах и 500 эпохах результат не очень хороший. Попробуем его улучшить. Увеличим learning rate до 0.01:"
   ]
  },
  {
   "cell_type": "code",
   "execution_count": 28,
   "id": "60043540",
   "metadata": {},
   "outputs": [
    {
     "data": {
      "image/png": "[encoded data removed]",
      "text/plain": [
       "<Figure size 1152x360 with 1 Axes>"
      ]
     },
     "metadata": {
      "needs_background": "light"
     },
     "output_type": "display_data"
    },
    {
     "name": "stdout",
     "output_type": "stream",
     "text": [
      "Точность нейронной сети 73.08%\n"
     ]
    }
   ],
   "source": [
    "neuron_numb = 2\n",
    "\n",
    "w0 = 2*np.random.random((4, neuron_numb)) - 1\n",
    "w1 = 2*np.random.random((neuron_numb, 3)) - 1\n",
    "\n",
    "n = 0.01\n",
    "errors = []\n",
    "\n",
    "for i in range(500):\n",
    "\n",
    "    layer0 = X_train\n",
    "    layer1 = sigmoid(np.dot(layer0, w0))\n",
    "    layer2 = sigmoid(np.dot(layer1, w1))\n",
    "\n",
    "    layer2_error = y_train - layer2\n",
    "    layer2_delta = layer2_error * sigmoid_deriv(layer2)\n",
    "    \n",
    "    layer1_error = layer2_delta.dot(w1.T)\n",
    "    layer1_delta = layer1_error * sigmoid_deriv(layer1)\n",
    "    \n",
    "    w1 += layer1.T.dot(layer2_delta) * n\n",
    "    w0 += layer0.T.dot(layer1_delta) * n\n",
    "    \n",
    "    error = np.mean(np.abs(layer2_error))\n",
    "    errors.append(error)\n",
    "    accuracy = (1 - error) * 100\n",
    "    \n",
    "plt.figure(figsize = (16,5))\n",
    "plt.plot(errors)\n",
    "plt.xlabel('Обучение')\n",
    "plt.ylabel('Ошибка')\n",
    "plt.grid()\n",
    "plt.show()\n",
    "        \n",
    "print(\"Точность нейронной сети \" + str(round(accuracy,2)) + \"%\")"
   ]
  },
  {
   "cell_type": "markdown",
   "id": "b7cb0fb0",
   "metadata": {},
   "source": [
    "#### При более высоком learning rate результат значительно возрос."
   ]
  },
  {
   "cell_type": "markdown",
   "id": "98a32c1a",
   "metadata": {},
   "source": [
    "#### Теперь попробуем при старом маленьком значении learning rate 0.005 увеличить количество эпох до 5000:"
   ]
  },
  {
   "cell_type": "code",
   "execution_count": 31,
   "id": "7f76611c",
   "metadata": {},
   "outputs": [
    {
     "data": {
      "image/png": "[encoded data removed]",
      "text/plain": [
       "<Figure size 1152x360 with 1 Axes>"
      ]
     },
     "metadata": {
      "needs_background": "light"
     },
     "output_type": "display_data"
    },
    {
     "name": "stdout",
     "output_type": "stream",
     "text": [
      "Точность нейронной сети 80.56%\n"
     ]
    }
   ],
   "source": [
    "neuron_numb = 2\n",
    "\n",
    "w0 = 2*np.random.random((4, neuron_numb)) - 1\n",
    "w1 = 2*np.random.random((neuron_numb, 3)) - 1\n",
    "\n",
    "n = 0.005\n",
    "errors = []\n",
    "\n",
    "for i in range(5000):\n",
    "\n",
    "    layer0 = X_train\n",
    "    layer1 = sigmoid(np.dot(layer0, w0))\n",
    "    layer2 = sigmoid(np.dot(layer1, w1))\n",
    "\n",
    "    layer2_error = y_train - layer2\n",
    "    layer2_delta = layer2_error * sigmoid_deriv(layer2)\n",
    "    \n",
    "    layer1_error = layer2_delta.dot(w1.T)\n",
    "    layer1_delta = layer1_error * sigmoid_deriv(layer1)\n",
    "    \n",
    "    w1 += layer1.T.dot(layer2_delta) * n\n",
    "    w0 += layer0.T.dot(layer1_delta) * n\n",
    "    \n",
    "    error = np.mean(np.abs(layer2_error))\n",
    "    errors.append(error)\n",
    "    accuracy = (1 - error) * 100\n",
    "    \n",
    "plt.figure(figsize = (16,5))\n",
    "plt.plot(errors)\n",
    "plt.xlabel('Обучение')\n",
    "plt.ylabel('Ошибка')\n",
    "plt.grid()\n",
    "plt.show()\n",
    "        \n",
    "print(\"Точность нейронной сети \" + str(round(accuracy,2)) + \"%\")"
   ]
  },
  {
   "cell_type": "markdown",
   "id": "904b3f7f",
   "metadata": {},
   "source": [
    "#### Видим, что это дало на 7% лучший результат, чем увеличение learning rate."
   ]
  },
  {
   "cell_type": "markdown",
   "id": "7283bb5f",
   "metadata": {},
   "source": [
    "#### Последним вариантом осталось увеличение количества нейронов. Увеличим их до 6:"
   ]
  },
  {
   "cell_type": "code",
   "execution_count": 32,
   "id": "26bf2af5",
   "metadata": {},
   "outputs": [
    {
     "data": {
      "image/png": "[encoded data removed]",
      "text/plain": [
       "<Figure size 1152x360 with 1 Axes>"
      ]
     },
     "metadata": {
      "needs_background": "light"
     },
     "output_type": "display_data"
    },
    {
     "name": "stdout",
     "output_type": "stream",
     "text": [
      "Точность нейронной сети 61.52%\n"
     ]
    }
   ],
   "source": [
    "neuron_numb = 6\n",
    "\n",
    "w0 = 2*np.random.random((4, neuron_numb)) - 1\n",
    "w1 = 2*np.random.random((neuron_numb, 3)) - 1\n",
    "\n",
    "n = 0.005\n",
    "errors = []\n",
    "\n",
    "for i in range(500):\n",
    "\n",
    "    layer0 = X_train\n",
    "    layer1 = sigmoid(np.dot(layer0, w0))\n",
    "    layer2 = sigmoid(np.dot(layer1, w1))\n",
    "\n",
    "    layer2_error = y_train - layer2\n",
    "    layer2_delta = layer2_error * sigmoid_deriv(layer2)\n",
    "    \n",
    "    layer1_error = layer2_delta.dot(w1.T)\n",
    "    layer1_delta = layer1_error * sigmoid_deriv(layer1)\n",
    "    \n",
    "    w1 += layer1.T.dot(layer2_delta) * n\n",
    "    w0 += layer0.T.dot(layer1_delta) * n\n",
    "    \n",
    "    error = np.mean(np.abs(layer2_error))\n",
    "    errors.append(error)\n",
    "    accuracy = (1 - error) * 100\n",
    "    \n",
    "plt.figure(figsize = (16,5))\n",
    "plt.plot(errors)\n",
    "plt.xlabel('Обучение')\n",
    "plt.ylabel('Ошибка')\n",
    "plt.grid()\n",
    "plt.show()\n",
    "        \n",
    "print(\"Точность нейронной сети \" + str(round(accuracy,2)) + \"%\")"
   ]
  },
  {
   "cell_type": "markdown",
   "id": "efa409dd",
   "metadata": {},
   "source": [
    "#### Увеличение количества нейронов с 2 до 6 дало самый худший результат из трех вариантов. Можно сделать вывод, что при маленьком learning rate и небольшом количестве эпох увеличивать количество нейронов бесполезно."
   ]
  },
  {
   "cell_type": "markdown",
   "id": "fcb18cc2",
   "metadata": {},
   "source": [
    "#### Попробуем при тех же параметрах увеличить количество эпох до 1000:"
   ]
  },
  {
   "cell_type": "code",
   "execution_count": 36,
   "id": "5950dd18",
   "metadata": {},
   "outputs": [
    {
     "data": {
      "image/png": "[encoded data removed]",
      "text/plain": [
       "<Figure size 1152x360 with 1 Axes>"
      ]
     },
     "metadata": {
      "needs_background": "light"
     },
     "output_type": "display_data"
    },
    {
     "name": "stdout",
     "output_type": "stream",
     "text": [
      "Точность нейронной сети 73.38%\n"
     ]
    }
   ],
   "source": [
    "neuron_numb = 6\n",
    "\n",
    "w0 = 2*np.random.random((4, neuron_numb)) - 1\n",
    "w1 = 2*np.random.random((neuron_numb, 3)) - 1\n",
    "\n",
    "n = 0.005\n",
    "errors = []\n",
    "\n",
    "for i in range(1000):\n",
    "\n",
    "    layer0 = X_train\n",
    "    layer1 = sigmoid(np.dot(layer0, w0))\n",
    "    layer2 = sigmoid(np.dot(layer1, w1))\n",
    "\n",
    "    layer2_error = y_train - layer2\n",
    "    layer2_delta = layer2_error * sigmoid_deriv(layer2)\n",
    "    \n",
    "    layer1_error = layer2_delta.dot(w1.T)\n",
    "    layer1_delta = layer1_error * sigmoid_deriv(layer1)\n",
    "    \n",
    "    w1 += layer1.T.dot(layer2_delta) * n\n",
    "    w0 += layer0.T.dot(layer1_delta) * n\n",
    "    \n",
    "    error = np.mean(np.abs(layer2_error))\n",
    "    errors.append(error)\n",
    "    accuracy = (1 - error) * 100\n",
    "    \n",
    "plt.figure(figsize = (16,5))\n",
    "plt.plot(errors)\n",
    "plt.xlabel('Обучение')\n",
    "plt.ylabel('Ошибка')\n",
    "plt.grid()\n",
    "plt.show()\n",
    "        \n",
    "print(\"Точность нейронной сети \" + str(round(accuracy,2)) + \"%\")"
   ]
  },
  {
   "cell_type": "markdown",
   "id": "45e46315",
   "metadata": {},
   "source": [
    "#### Увеличение количества эпох до 1000 при 6-ти нейронах дает практически такой же результат, как при увеличении learning rate."
   ]
  },
  {
   "cell_type": "markdown",
   "id": "1a5344df",
   "metadata": {},
   "source": [
    "#### Попробуем найти наилучшую комбинацию гиперпараметров:"
   ]
  },
  {
   "cell_type": "code",
   "execution_count": 58,
   "id": "b30fdf33",
   "metadata": {},
   "outputs": [
    {
     "data": {
      "image/png": "[encoded data removed]",
      "text/plain": [
       "<Figure size 1152x360 with 1 Axes>"
      ]
     },
     "metadata": {
      "needs_background": "light"
     },
     "output_type": "display_data"
    },
    {
     "name": "stdout",
     "output_type": "stream",
     "text": [
      "Точность нейронной сети 95.3%\n"
     ]
    }
   ],
   "source": [
    "neuron_numb = 8\n",
    "\n",
    "w0 = 2*np.random.random((4, neuron_numb)) - 1\n",
    "w1 = 2*np.random.random((neuron_numb, 3)) - 1\n",
    "\n",
    "n = 0.05\n",
    "errors = []\n",
    "\n",
    "for i in range(5000):\n",
    "\n",
    "    layer0 = X_train\n",
    "    layer1 = sigmoid(np.dot(layer0, w0))\n",
    "    layer2 = sigmoid(np.dot(layer1, w1))\n",
    "\n",
    "    layer2_error = y_train - layer2\n",
    "    layer2_delta = layer2_error * sigmoid_deriv(layer2)\n",
    "    \n",
    "    layer1_error = layer2_delta.dot(w1.T)\n",
    "    layer1_delta = layer1_error * sigmoid_deriv(layer1)\n",
    "    \n",
    "    w1 += layer1.T.dot(layer2_delta) * n\n",
    "    w0 += layer0.T.dot(layer1_delta) * n\n",
    "    \n",
    "    error = np.mean(np.abs(layer2_error))\n",
    "    errors.append(error)\n",
    "    accuracy = (1 - error) * 100\n",
    "    \n",
    "plt.figure(figsize = (16,5))\n",
    "plt.plot(errors)\n",
    "plt.xlabel('Обучение')\n",
    "plt.ylabel('Ошибка')\n",
    "plt.grid()\n",
    "plt.show()\n",
    "        \n",
    "print(\"Точность нейронной сети \" + str(round(accuracy,2)) + \"%\")"
   ]
  },
  {
   "cell_type": "code",
   "execution_count": 61,
   "id": "2dde5e80",
   "metadata": {},
   "outputs": [
    {
     "name": "stdout",
     "output_type": "stream",
     "text": [
      "Точность нейронной сети на тесте 94.47%\n"
     ]
    }
   ],
   "source": [
    "layer0_test = X_test\n",
    "layer1_test = sigmoid(np.dot(layer0_test, w0))\n",
    "layer2_test = sigmoid(np.dot(layer1_test, w1))\n",
    "layer2_error_test = y_test - layer2_test\n",
    "\n",
    "error_test = np.mean(np.abs(layer2_error_test))\n",
    "accuracy_test = (1 - error_test) * 100\n",
    "print(\"Точность нейронной сети на тесте \" + str(round(accuracy_test,2)) + \"%\")"
   ]
  },
  {
   "cell_type": "markdown",
   "id": "8a87d7c5",
   "metadata": {},
   "source": [
    "#### Наилучшие параметры, при которых нейронная сеть дает в среднем 95% точности на тренировочном и тестовом датасетах - 8 нейронов, 5000 эпох и learning rate=0.05, против 2-х нейронов, 500 эпохах и learning rate=0.005 с результатом 58,93% точности."
   ]
  },
  {
   "cell_type": "markdown",
   "id": "c979204a",
   "metadata": {},
   "source": [
    "#### Из чего можно сделать вывод, что для увеличения точности следует увеличивать значения гиперпараметров. Хотя возможно 95% точности свидетельствует о переобучении."
   ]
  },
  {
   "cell_type": "markdown",
   "id": "9b799432",
   "metadata": {},
   "source": [
    "#### Попробуем добавить дополнительный слой:"
   ]
  },
  {
   "cell_type": "code",
   "execution_count": 65,
   "id": "ef5cc39c",
   "metadata": {},
   "outputs": [
    {
     "data": {
      "image/png": "[encoded data removed]",
      "text/plain": [
       "<Figure size 1152x360 with 1 Axes>"
      ]
     },
     "metadata": {
      "needs_background": "light"
     },
     "output_type": "display_data"
    },
    {
     "name": "stdout",
     "output_type": "stream",
     "text": [
      "Точность нейронной сети 97.13%\n"
     ]
    }
   ],
   "source": [
    "neuron_numb = 8\n",
    "\n",
    "w0 = 2*np.random.random((4, neuron_numb)) - 1\n",
    "w1 = 2*np.random.random((neuron_numb, neuron_numb)) - 1\n",
    "w2 = 2*np.random.random((neuron_numb, 3)) - 1\n",
    "\n",
    "n = 0.05\n",
    "errors = []\n",
    "\n",
    "for i in range(5000):\n",
    "\n",
    "    layer0 = X_train\n",
    "    layer1 = sigmoid(np.dot(layer0, w0))\n",
    "    layer2 = sigmoid(np.dot(layer1, w1))\n",
    "    layer3 = sigmoid(np.dot(layer2, w2))\n",
    "\n",
    "    layer3_error = y_train - layer3\n",
    "    layer3_delta = layer3_error * sigmoid_deriv(layer3)\n",
    "    \n",
    "    layer2_error = layer3_delta.dot(w2.T)\n",
    "    layer2_delta = layer2_error * sigmoid_deriv(layer2)\n",
    "    \n",
    "    w2 += layer2.T.dot(layer3_delta) * n\n",
    "    w1 += layer1.T.dot(layer2_delta) * n\n",
    "    w0 += layer0.T.dot(layer1_delta) * n\n",
    "    \n",
    "    error = np.mean(np.abs(layer3_error))\n",
    "    errors.append(error)\n",
    "    accuracy = (1 - error) * 100\n",
    "    \n",
    "plt.figure(figsize = (16,5))\n",
    "plt.plot(errors)\n",
    "plt.xlabel('Обучение')\n",
    "plt.ylabel('Ошибка')\n",
    "plt.grid()\n",
    "plt.show()\n",
    "        \n",
    "print(\"Точность нейронной сети \" + str(round(accuracy,2)) + \"%\")"
   ]
  },
  {
   "cell_type": "code",
   "execution_count": 66,
   "id": "97a15523",
   "metadata": {},
   "outputs": [
    {
     "name": "stdout",
     "output_type": "stream",
     "text": [
      "Точность нейронной сети на тесте 95.65%\n"
     ]
    }
   ],
   "source": [
    "layer0_test = X_test\n",
    "layer1_test = sigmoid(np.dot(layer0_test, w0))\n",
    "layer2_test = sigmoid(np.dot(layer1_test, w1))\n",
    "layer3_test = sigmoid(np.dot(layer2_test, w2))\n",
    "layer3_error_test = y_test - layer3_test\n",
    "\n",
    "error_test = np.mean(np.abs(layer3_error_test))\n",
    "accuracy_test = (1 - error_test) * 100\n",
    "print(\"Точность нейронной сети на тесте \" + str(round(accuracy_test,2)) + \"%\")"
   ]
  },
  {
   "cell_type": "markdown",
   "id": "4eeefa18",
   "metadata": {},
   "source": [
    "#### Как видно из результатов и графика, при вводе дополнительного слоя и наилучших параметрах, определенных ранее, точность повышается еще сильнее, причем для ее достижения требуется намного меньше эпох. График выходит на плато примерно на 2000-й итерации, что говорит о том, что ввод дополнительного слоя может сократить времязараты."
   ]
  },
  {
   "cell_type": "code",
   "execution_count": null,
   "id": "c878acaf",
   "metadata": {},
   "outputs": [],
   "source": []
  }
 ],
 "metadata": {
  "kernelspec": {
   "display_name": "Python 3 (ipykernel)",
   "language": "python",
   "name": "python3"
  },
  "language_info": {
   "codemirror_mode": {
    "name": "ipython",
    "version": 3
   },
   "file_extension": ".py",
   "mimetype": "text/x-python",
   "name": "python",
   "nbconvert_exporter": "python",
   "pygments_lexer": "ipython3",
   "version": "3.10.4"
  }
 },
 "nbformat": 4,
 "nbformat_minor": 5
}
